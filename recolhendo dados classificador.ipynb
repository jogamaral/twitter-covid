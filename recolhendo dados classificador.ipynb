{
 "cells": [
  {
   "cell_type": "markdown",
   "metadata": {},
   "source": [
    "# Recolhendo os dados"
   ]
  },
  {
   "cell_type": "markdown",
   "metadata": {},
   "source": [
    "## Importações"
   ]
  },
  {
   "cell_type": "code",
   "execution_count": 1,
   "metadata": {},
   "outputs": [],
   "source": [
    "from nltk import word_tokenize\n",
    "import nltk\n",
    "import re\n",
    "import tweepy as tw\n",
    "import pandas as pd\n",
    "import matplotlib.pyplot as plt\n",
    "from sklearn.feature_extraction.text import CountVectorizer\n",
    "from sklearn.naive_bayes import MultinomialNB\n",
    "from sklearn import svm\n",
    "from sklearn import metrics\n",
    "from sklearn.model_selection import cross_val_predict"
   ]
  },
  {
   "cell_type": "markdown",
   "metadata": {},
   "source": [
    "## Acessando API do Twitter"
   ]
  },
  {
   "cell_type": "markdown",
   "metadata": {},
   "source": [
    "Lendo arquivo .txt com as chaves para acessar a API do Twitter e em seguida acessando a API."
   ]
  },
  {
   "cell_type": "code",
   "execution_count": 3,
   "metadata": {},
   "outputs": [],
   "source": [
    "with open('twitter-tokens.txt','r') as tfile:\n",
    "    consumer_key = tfile.readline().strip('\\n')\n",
    "    consumer_secret = tfile.readline().strip('\\n')\n",
    "    access_token = tfile.readline().strip('\\n')\n",
    "    access_token_secret = tfile.readline().strip('\\n')"
   ]
  },
  {
   "cell_type": "code",
   "execution_count": 4,
   "metadata": {},
   "outputs": [],
   "source": [
    "auth = tw.OAuthHandler(consumer_key, consumer_secret)\n",
    "auth.set_access_token(access_token, access_token_secret)\n",
    "\n",
    "api = tw.API(auth)"
   ]
  },
  {
   "cell_type": "markdown",
   "metadata": {},
   "source": [
    "## Recuperando os Tweets"
   ]
  },
  {
   "cell_type": "markdown",
   "metadata": {},
   "source": [
    "Definindo os termos de buscas, idioma e quantidade dos tweets recuperados assim como filtrando para não recuperar retweets."
   ]
  },
  {
   "cell_type": "code",
   "execution_count": 5,
   "metadata": {},
   "outputs": [],
   "source": [
    "query_search = 'covid' + '-filter:retweets'\n",
    "\n",
    "cursor_tweets = tw.Cursor(api.search,\n",
    "                  q=query_search,\n",
    "                  lang='pt',tweet_mode='extended').items(100)"
   ]
  },
  {
   "cell_type": "markdown",
   "metadata": {},
   "source": [
    "Recuperando o dicionário previamente criado com o as informações que serão recolhidas dos tweets recuperados."
   ]
  },
  {
   "cell_type": "code",
   "execution_count": 6,
   "metadata": {},
   "outputs": [],
   "source": [
    "tweets_dict = {'full_text':[]}"
   ]
  },
  {
   "cell_type": "markdown",
   "metadata": {},
   "source": [
    "Recuperando os tweets através do cursor criado anteriormente e salvando-as no dicionário."
   ]
  },
  {
   "cell_type": "code",
   "execution_count": 7,
   "metadata": {},
   "outputs": [],
   "source": [
    "for tweet in cursor_tweets:\n",
    "    for key in tweets_dict.keys():\n",
    "        try:\n",
    "            # para cada tweet recuperado tenta salva-lo no dicíonario em sua respectiva chave\n",
    "            tw_from_key = tweet._json[key]\n",
    "            # usa expressão regular para remover links dos tweets\n",
    "            if key == 'full_text':\n",
    "                tw_from_key = re.sub(r\"http\\S+\", \"\", tw_from_key)\n",
    "                tw_from_key = re.sub(r\"@\\S+\", \"\", tw_from_key)\n",
    "            tweets_dict[key].append(tw_from_key)\n",
    "        except KeyError:\n",
    "            # caso algum tweet recuperado não tenha algum dos dados procurados adiciona uma string vazia\n",
    "            tw_from_key = ''\n",
    "            tweets_dict[key].append('')        "
   ]
  },
  {
   "cell_type": "markdown",
   "metadata": {},
   "source": [
    "Salvando os dados do dicionário em um dataframe."
   ]
  },
  {
   "cell_type": "code",
   "execution_count": 8,
   "metadata": {},
   "outputs": [
    {
     "data": {
      "text/html": [
       "<div>\n",
       "<style scoped>\n",
       "    .dataframe tbody tr th:only-of-type {\n",
       "        vertical-align: middle;\n",
       "    }\n",
       "\n",
       "    .dataframe tbody tr th {\n",
       "        vertical-align: top;\n",
       "    }\n",
       "\n",
       "    .dataframe thead th {\n",
       "        text-align: right;\n",
       "    }\n",
       "</style>\n",
       "<table border=\"1\" class=\"dataframe\">\n",
       "  <thead>\n",
       "    <tr style=\"text-align: right;\">\n",
       "      <th></th>\n",
       "      <th>full_text</th>\n",
       "    </tr>\n",
       "  </thead>\n",
       "  <tbody>\n",
       "    <tr>\n",
       "      <th>0</th>\n",
       "      <td>A CUFA está em todo território nacional  e em ...</td>\n",
       "    </tr>\n",
       "    <tr>\n",
       "      <th>1</th>\n",
       "      <td>a segunda onda de covid tá vindo</td>\n",
       "    </tr>\n",
       "    <tr>\n",
       "      <th>2</th>\n",
       "      <td>Meus vizinhos encontraram a cura pro Covid e e...</td>\n",
       "    </tr>\n",
       "    <tr>\n",
       "      <th>3</th>\n",
       "      <td>Papa Francisco disse que \"fofocar é uma praga...</td>\n",
       "    </tr>\n",
       "    <tr>\n",
       "      <th>4</th>\n",
       "      <td>Nem na quarentena fiquei sem sol. Por isso ac...</td>\n",
       "    </tr>\n",
       "    <tr>\n",
       "      <th>...</th>\n",
       "      <td>...</td>\n",
       "    </tr>\n",
       "    <tr>\n",
       "      <th>95</th>\n",
       "      <td>A CUFA está em todo território nacional  e em ...</td>\n",
       "    </tr>\n",
       "    <tr>\n",
       "      <th>96</th>\n",
       "      <td>Os casos de covid estão aumentando na Croáci...</td>\n",
       "    </tr>\n",
       "    <tr>\n",
       "      <th>97</th>\n",
       "      <td>lá não tem covid.....</td>\n",
       "    </tr>\n",
       "    <tr>\n",
       "      <th>98</th>\n",
       "      <td>\"pandemia comunista\", \"ditadura do covid\", \"in...</td>\n",
       "    </tr>\n",
       "    <tr>\n",
       "      <th>99</th>\n",
       "      <td>Quais são os seus planos para este domingo? \\n...</td>\n",
       "    </tr>\n",
       "  </tbody>\n",
       "</table>\n",
       "<p>100 rows × 1 columns</p>\n",
       "</div>"
      ],
      "text/plain": [
       "                                            full_text\n",
       "0   A CUFA está em todo território nacional  e em ...\n",
       "1                    a segunda onda de covid tá vindo\n",
       "2   Meus vizinhos encontraram a cura pro Covid e e...\n",
       "3    Papa Francisco disse que \"fofocar é uma praga...\n",
       "4    Nem na quarentena fiquei sem sol. Por isso ac...\n",
       "..                                                ...\n",
       "95  A CUFA está em todo território nacional  e em ...\n",
       "96    Os casos de covid estão aumentando na Croáci...\n",
       "97                              lá não tem covid.....\n",
       "98  \"pandemia comunista\", \"ditadura do covid\", \"in...\n",
       "99  Quais são os seus planos para este domingo? \\n...\n",
       "\n",
       "[100 rows x 1 columns]"
      ]
     },
     "execution_count": 8,
     "metadata": {},
     "output_type": "execute_result"
    }
   ],
   "source": [
    "tw_df = pd.DataFrame.from_dict(tweets_dict)\n",
    "tw_df"
   ]
  },
  {
   "cell_type": "markdown",
   "metadata": {},
   "source": [
    "Salvando os tweets em um arquivo .csv"
   ]
  },
  {
   "cell_type": "code",
   "execution_count": 9,
   "metadata": {},
   "outputs": [],
   "source": [
    "tw_df.to_csv('tweet_data.csv')"
   ]
  },
  {
   "cell_type": "code",
   "execution_count": 2,
   "metadata": {},
   "outputs": [
    {
     "data": {
      "text/html": [
       "<div>\n",
       "<style scoped>\n",
       "    .dataframe tbody tr th:only-of-type {\n",
       "        vertical-align: middle;\n",
       "    }\n",
       "\n",
       "    .dataframe tbody tr th {\n",
       "        vertical-align: top;\n",
       "    }\n",
       "\n",
       "    .dataframe thead th {\n",
       "        text-align: right;\n",
       "    }\n",
       "</style>\n",
       "<table border=\"1\" class=\"dataframe\">\n",
       "  <thead>\n",
       "    <tr style=\"text-align: right;\">\n",
       "      <th></th>\n",
       "      <th>full_text</th>\n",
       "      <th>sentiment</th>\n",
       "    </tr>\n",
       "  </thead>\n",
       "  <tbody>\n",
       "    <tr>\n",
       "      <th>0</th>\n",
       "      <td>A CUFA está em todo território nacional  e em ...</td>\n",
       "      <td>2</td>\n",
       "    </tr>\n",
       "    <tr>\n",
       "      <th>1</th>\n",
       "      <td>a segunda onda de covid tá vindo</td>\n",
       "      <td>2</td>\n",
       "    </tr>\n",
       "    <tr>\n",
       "      <th>2</th>\n",
       "      <td>Meus vizinhos encontraram a cura pro Covid e e...</td>\n",
       "      <td>1</td>\n",
       "    </tr>\n",
       "    <tr>\n",
       "      <th>3</th>\n",
       "      <td>Papa Francisco disse que \"fofocar é uma praga...</td>\n",
       "      <td>2</td>\n",
       "    </tr>\n",
       "    <tr>\n",
       "      <th>4</th>\n",
       "      <td>Nem na quarentena fiquei sem sol. Por isso ac...</td>\n",
       "      <td>3</td>\n",
       "    </tr>\n",
       "  </tbody>\n",
       "</table>\n",
       "</div>"
      ],
      "text/plain": [
       "                                           full_text  sentiment\n",
       "0  A CUFA está em todo território nacional  e em ...          2\n",
       "1                   a segunda onda de covid tá vindo          2\n",
       "2  Meus vizinhos encontraram a cura pro Covid e e...          1\n",
       "3   Papa Francisco disse que \"fofocar é uma praga...          2\n",
       "4   Nem na quarentena fiquei sem sol. Por isso ac...          3"
      ]
     },
     "execution_count": 2,
     "metadata": {},
     "output_type": "execute_result"
    }
   ],
   "source": [
    "df = pd.read_csv('tweet_data_clf.csv',index_col=0)\n",
    "df.head()"
   ]
  },
  {
   "cell_type": "markdown",
   "metadata": {},
   "source": [
    "Os tweets foram classificados da seguinte maneira:\n",
    "    1->negativo,\n",
    "    2->neutro,\n",
    "    3->positivo."
   ]
  },
  {
   "cell_type": "code",
   "execution_count": 3,
   "metadata": {},
   "outputs": [
    {
     "data": {
      "text/plain": [
       "1    56\n",
       "2    40\n",
       "3     4\n",
       "Name: sentiment, dtype: int64"
      ]
     },
     "execution_count": 3,
     "metadata": {},
     "output_type": "execute_result"
    }
   ],
   "source": [
    "df.sentiment.value_counts()"
   ]
  },
  {
   "cell_type": "code",
   "execution_count": 153,
   "metadata": {},
   "outputs": [
    {
     "data": {
      "image/png": "[encoded data removed]",
      "text/plain": [
       "<Figure size 432x288 with 1 Axes>"
      ]
     },
     "metadata": {
      "needs_background": "light"
     },
     "output_type": "display_data"
    }
   ],
   "source": [
    "df.sentiment.value_counts().plot(kind='bar')\n",
    "locs, labels = plt.xticks()\n",
    "plt.setp(labels, rotation=0);"
   ]
  },
  {
   "cell_type": "markdown",
   "metadata": {},
   "source": [
    "Podemos ver um grande desbalanceamento entre a categoria positiva e as demais."
   ]
  },
  {
   "cell_type": "markdown",
   "metadata": {},
   "source": [
    "# Pré-Processamento dos Dados"
   ]
  },
  {
   "cell_type": "markdown",
   "metadata": {},
   "source": [
    "#### Removendo Tweets duplicados"
   ]
  },
  {
   "cell_type": "markdown",
   "metadata": {},
   "source": [
    "Ainda que na coleta dos dados tenham sido filtrados os retweets ainda assim foram recolhidos alguns tweets duplicados."
   ]
  },
  {
   "cell_type": "code",
   "execution_count": 154,
   "metadata": {},
   "outputs": [
    {
     "data": {
      "text/plain": [
       "100"
      ]
     },
     "execution_count": 154,
     "metadata": {},
     "output_type": "execute_result"
    }
   ],
   "source": [
    "df.full_text.count()"
   ]
  },
  {
   "cell_type": "code",
   "execution_count": 155,
   "metadata": {},
   "outputs": [
    {
     "data": {
      "text/plain": [
       "97"
      ]
     },
     "execution_count": 155,
     "metadata": {},
     "output_type": "execute_result"
    }
   ],
   "source": [
    "df.drop_duplicates(['full_text'], inplace=True)\n",
    "df.full_text.count()"
   ]
  },
  {
   "cell_type": "markdown",
   "metadata": {},
   "source": [
    "#### Separando teste e treino."
   ]
  },
  {
   "cell_type": "code",
   "execution_count": 156,
   "metadata": {},
   "outputs": [],
   "source": [
    "from sklearn.model_selection import train_test_split"
   ]
  },
  {
   "cell_type": "code",
   "execution_count": 157,
   "metadata": {},
   "outputs": [],
   "source": [
    "train_set, test_set = train_test_split(df,test_size=0.2,random_state=42)"
   ]
  },
  {
   "cell_type": "markdown",
   "metadata": {},
   "source": [
    "#### Separando predictors e labels."
   ]
  },
  {
   "cell_type": "code",
   "execution_count": 158,
   "metadata": {},
   "outputs": [],
   "source": [
    "tweets = train_set.drop('sentiment',axis=1)\n",
    "classe = train_set['sentiment'].copy()"
   ]
  },
  {
   "cell_type": "markdown",
   "metadata": {},
   "source": [
    "#### Criando função que irá pré-processar o texto."
   ]
  },
  {
   "cell_type": "code",
   "execution_count": 135,
   "metadata": {},
   "outputs": [],
   "source": [
    "def Preprocessing(instancia):\n",
    "    # Remove caracteres indesejados.\n",
    "    instancia = instancia.lower().replace('.','').replace(';','').replace('-','').replace(':','').replace(')','').replace('\"','').replace(',','')\n",
    "    # Removendo palavras e termos frequentes que não tem relevância nos dados.\n",
    "    stopwords = set(nltk.corpus.stopwords.words('portuguese'))\n",
    "    palavras = [i for i in instancia.split() if not i in stopwords]\n",
    "    return (\" \".join(palavras))"
   ]
  },
  {
   "cell_type": "code",
   "execution_count": 159,
   "metadata": {},
   "outputs": [],
   "source": [
    "tweets = [Preprocessing(i) for i in tweets.full_text]"
   ]
  },
  {
   "cell_type": "code",
   "execution_count": 160,
   "metadata": {},
   "outputs": [
    {
     "name": "stdout",
     "output_type": "stream",
     "text": [
      "Antes: Manos por favor, COVID não tem uma cláusula assinada na qual ele infectará o indivíduo APENAS se na reunião houver mais de 5 pessoas\n",
      "Vejo gente criticando o bar até virar do avesso e reunindo com 4 pessoas que não moram c ela.\n",
      "\n",
      "Aglomeração é mais questão de chance de contágio Zé\n",
      "\n",
      "Depois: manos favor covid cláusula assinada infectará indivíduo apenas reunião 5 pessoas vejo gente criticando bar virar avesso reunindo 4 pessoas moram c aglomeração questão chance contágio zé\n"
     ]
    }
   ],
   "source": [
    "print('''Antes: {}\n",
    "\n",
    "Depois: {}'''.format(train_set.full_text.iloc[0],tweets[0]))"
   ]
  },
  {
   "cell_type": "markdown",
   "metadata": {},
   "source": [
    "#### Tokenização"
   ]
  },
  {
   "cell_type": "markdown",
   "metadata": {},
   "source": [
    "Usando a biblioteca nltk para tokenizar os tweets. Ou seja, dividir uma string ou textos em uma lista de tokens."
   ]
  },
  {
   "cell_type": "code",
   "execution_count": 161,
   "metadata": {},
   "outputs": [
    {
     "data": {
      "text/plain": [
       "['manos',\n",
       " 'favor',\n",
       " 'covid',\n",
       " 'cláusula',\n",
       " 'assinada',\n",
       " 'infectará',\n",
       " 'indivíduo',\n",
       " 'apenas',\n",
       " 'reunião',\n",
       " '5',\n",
       " 'pessoas',\n",
       " 'vejo',\n",
       " 'gente',\n",
       " 'criticando',\n",
       " 'bar',\n",
       " 'virar',\n",
       " 'avesso',\n",
       " 'reunindo',\n",
       " '4',\n",
       " 'pessoas',\n",
       " 'moram',\n",
       " 'c',\n",
       " 'aglomeração',\n",
       " 'questão',\n",
       " 'chance',\n",
       " 'contágio',\n",
       " 'zé']"
      ]
     },
     "execution_count": 161,
     "metadata": {},
     "output_type": "execute_result"
    }
   ],
   "source": [
    "from nltk.tokenize import TweetTokenizer\n",
    "tweet_tokenizer = TweetTokenizer() \n",
    "tweet_tokenizer.tokenize(tweets[0])"
   ]
  },
  {
   "cell_type": "code",
   "execution_count": 139,
   "metadata": {},
   "outputs": [],
   "source": [
    "# Instanciando o objeto que faz a vetorização dos dados de texto.\n",
    "vectorizer = CountVectorizer(analyzer=\"word\", tokenizer=tweet_tokenizer.tokenize)"
   ]
  },
  {
   "cell_type": "code",
   "execution_count": 140,
   "metadata": {},
   "outputs": [],
   "source": [
    "# Aplica o vetorizador nos dados de texto e retorna uma matriz esparsa:\n",
    "freq_tweets = vectorizer.fit_transform(tweets)"
   ]
  },
  {
   "cell_type": "markdown",
   "metadata": {},
   "source": [
    "Treinando um modelo de Naive Bayes"
   ]
  },
  {
   "cell_type": "code",
   "execution_count": 141,
   "metadata": {},
   "outputs": [
    {
     "data": {
      "text/plain": [
       "MultinomialNB()"
      ]
     },
     "execution_count": 141,
     "metadata": {},
     "output_type": "execute_result"
    }
   ],
   "source": [
    "# Treino de modelo de Machine Learning:\n",
    "modelo = MultinomialNB()\n",
    "modelo.fit(freq_tweets,classe)"
   ]
  },
  {
   "cell_type": "markdown",
   "metadata": {},
   "source": [
    "Testando com alguns tweets do set de teste."
   ]
  },
  {
   "cell_type": "code",
   "execution_count": 166,
   "metadata": {},
   "outputs": [
    {
     "data": {
      "text/plain": [
       "[' Suspeita de covid more',\n",
       " '  Os casos de covid estão aumentando na Croácia. Rezando pra lenda não pegar 🙌🏽🙌🏽😭',\n",
       " 'Tem umas pessoas que eu olho os storys e fico pensando COMO que nao pegou covid ainda????????']"
      ]
     },
     "execution_count": 166,
     "metadata": {},
     "output_type": "execute_result"
    }
   ],
   "source": [
    "testes = list(test_set.iloc[1:4].full_text)\n",
    "testes"
   ]
  },
  {
   "cell_type": "code",
   "execution_count": 167,
   "metadata": {},
   "outputs": [],
   "source": [
    "# Transforma os dados de teste em vetores de palavras:\n",
    "freq_testes = vectorizer.transform(testes)"
   ]
  },
  {
   "cell_type": "code",
   "execution_count": 176,
   "metadata": {},
   "outputs": [
    {
     "name": "stdout",
     "output_type": "stream",
     "text": [
      "Tweet:  Suspeita de covid more\n",
      "           Predição: 1\n",
      "           Classificação humana: 1\n",
      "Tweet:   Os casos de covid estão aumentando na Croácia. Rezando pra lenda não pegar 🙌🏽🙌🏽😭\n",
      "           Predição: 1\n",
      "           Classificação humana: 1\n",
      "Tweet: Tem umas pessoas que eu olho os storys e fico pensando COMO que nao pegou covid ainda????????\n",
      "           Predição: 2\n",
      "           Classificação humana: 1\n"
     ]
    }
   ],
   "source": [
    "# Fazendo a classificação com o modelo treinado:\n",
    "for t,p, c in zip (testes,modelo.predict(freq_testes),test_set.iloc[1:4].sentiment):\n",
    "    # t representa o tweet e p a predição de cada tweet e c a classifição humana.\n",
    "    print ('''Tweet: {}\n",
    "           Predição: {}\n",
    "           Classificação humana: {}'''.format(t, c,p)) "
   ]
  },
  {
   "cell_type": "code",
   "execution_count": 186,
   "metadata": {},
   "outputs": [
    {
     "data": {
      "text/plain": [
       "0.6"
      ]
     },
     "execution_count": 186,
     "metadata": {},
     "output_type": "execute_result"
    }
   ],
   "source": [
    "# Medindo a acurácia média do modelo:\n",
    "teste_tweets = [Preprocessing(i) for i in test_set.full_text]\n",
    "freq_teste_tweets = vectorizer.transform(teste_tweets)\n",
    "\n",
    "resultados = modelo.predict(freq_teste_tweets)\n",
    "classes = test_set.sentiment\n",
    "\n",
    "metrics.accuracy_score(classes,resultados)"
   ]
  },
  {
   "cell_type": "code",
   "execution_count": 189,
   "metadata": {},
   "outputs": [
    {
     "name": "stdout",
     "output_type": "stream",
     "text": [
      "Predito   1  2  All\n",
      "Real               \n",
      "1         9  2   11\n",
      "2         5  3    8\n",
      "3         1  0    1\n",
      "All      15  5   20\n"
     ]
    }
   ],
   "source": [
    "print (pd.crosstab(classes, resultados, rownames=['Real'], colnames=['Predito'], margins=True))"
   ]
  },
  {
   "cell_type": "code",
   "execution_count": 188,
   "metadata": {},
   "outputs": [
    {
     "name": "stdout",
     "output_type": "stream",
     "text": [
      "              precision    recall  f1-score   support\n",
      "\n",
      "           1       0.60      0.82      0.69        11\n",
      "           2       0.60      0.38      0.46         8\n",
      "           3       0.00      0.00      0.00         1\n",
      "\n",
      "    accuracy                           0.60        20\n",
      "   macro avg       0.40      0.40      0.38        20\n",
      "weighted avg       0.57      0.60      0.57        20\n",
      "\n"
     ]
    },
    {
     "name": "stderr",
     "output_type": "stream",
     "text": [
      "C:\\Users\\joaoa\\Anaconda3\\lib\\site-packages\\sklearn\\metrics\\_classification.py:1221: UndefinedMetricWarning: Precision and F-score are ill-defined and being set to 0.0 in labels with no predicted samples. Use `zero_division` parameter to control this behavior.\n",
      "  _warn_prf(average, modifier, msg_start, len(result))\n"
     ]
    }
   ],
   "source": [
    "# Medidas de validação do modelo:\n",
    "sentimento=['Positivo','Negativo','Neutro']\n",
    "print (metrics.classification_report(classes,resultados))"
   ]
  }
 ],
 "metadata": {
  "kernelspec": {
   "display_name": "Python 3",
   "language": "python",
   "name": "python3"
  },
  "language_info": {
   "codemirror_mode": {
    "name": "ipython",
    "version": 3
   },
   "file_extension": ".py",
   "mimetype": "text/x-python",
   "name": "python",
   "nbconvert_exporter": "python",
   "pygments_lexer": "ipython3",
   "version": "3.8.3"
  }
 },
 "nbformat": 4,
 "nbformat_minor": 4
}
